{
 "cells": [
  {
   "cell_type": "code",
   "execution_count": 31,
   "metadata": {},
   "outputs": [
    {
     "name": "stdout",
     "output_type": "stream",
     "text": [
      "Optimum solution: [0.99953209 0.99866982]\n",
      "Optimum Value of objective function: 5.768999483667129e-05 in 39 iterations\n",
      "computation time is 0.0 sec\n"
     ]
    },
    {
     "data": {
      "image/png": "[encoded data removed]",
      "text/plain": [
       "<Figure size 432x288 with 1 Axes>"
      ]
     },
     "metadata": {
      "needs_background": "light"
     },
     "output_type": "display_data"
    }
   ],
   "source": [
    "#PSO Unconstraint - Minimization Problem \n",
    "#Minimization of Rosenbrock Function\n",
    "import time\n",
    "import numpy as np\n",
    "import matplotlib.pyplot as plt\n",
    "from mpl_toolkits.mplot3d import Axes3D\n",
    "%matplotlib inline\n",
    "\n",
    "#Objective-Function Evaluation - \n",
    "def func(x):\n",
    "    value = 20*(x[:,1] - x[:,0]**2)**2 + (1 - x[:,0])**2\n",
    "    #(x[:,0] + 2*x[:,1] - 7)**2 + (2*x[:,0] + x[:,1] - 5)**2\n",
    "    return value\n",
    "    \n",
    "#Finding Global Best \n",
    "def gbest(fv, x, row, u, value):\n",
    "    if value > np.min(fv):\n",
    "        value, row = np.amin(fv), np.argmin(fv)\n",
    "        u = x[row, :]\n",
    "    return u, row, value\n",
    "\n",
    "#Finding Personal Best \n",
    "def pbest(fv, x, p, valuep):\n",
    "    for k in range(size):\n",
    "        if valuep[k] > fv[k]:\n",
    "            valuep[k]= fv[k]  \n",
    "            p[:,k] = x[k]\n",
    "    return p, valuep\n",
    "\n",
    "\n",
    "#Main Code\n",
    "start = time.process_time()\n",
    "nov = 2   #Number of Variables \n",
    "size = 100 #Swarm Size or Number of particels \n",
    "\n",
    "#Initialization of values of swarms (particels) for iterations\n",
    "x = np.random.uniform(-5, 5, size = (size, nov)) \n",
    "tol = 10**-6 #Tolerance Value (Stopping Criterion)\n",
    "\n",
    "#Varialbes Associated With Program\n",
    "f = 1  \n",
    "pre = 0\n",
    "max_iter = 200 #max number of Iterations \n",
    "i = 0\n",
    "row = 0\n",
    "u = 0\n",
    "p = np.zeros((nov, size)) \n",
    "value = 10**20\n",
    "valuep = np.array([value]*size)\n",
    "v = np.zeros((nov, size))\n",
    "c1 = 2 #Cognitive Behavior Constants, c1 & c2 \n",
    "c2 = 1\n",
    "tmax, tmin = 0.9, 0.4\n",
    "arr1 = np.array([])\n",
    "arr2 = np.array([])\n",
    "\n",
    "while abs(f - pre) > tol and i < max_iter:\n",
    "    r1 = np.random.uniform()\n",
    "    r2 = np.random.uniform()\n",
    "    t = tmax - (tmax - tmin)*i/max_iter\n",
    "    pre = f\n",
    "    fv = func(x)\n",
    "    u, row, value = gbest(fv, x, row, u, value)\n",
    "    g = u\n",
    "    g = np.tile(g.reshape((nov,1)), size)\n",
    "    p, valup = pbest(fv, x, p, valuep)\n",
    "    v = 0.73*(t*v + c1*r1*(p - x.transpose()) + c2*r2*(g - x.transpose()))\n",
    "    x = x + v.transpose()\n",
    "    x[x>5] = 5                 #Bounds on values of particels \n",
    "    x[x<-5] = -5\n",
    "    f = np.mean(fv)\n",
    "    arr1 = np.append(arr1, i)\n",
    "    arr2 = np.append(arr2, f)\n",
    "    i += 1\n",
    "    \n",
    "elapsed = time.process_time()\n",
    "el = elapsed - start\n",
    "print(\"Optimum solution:\", x[1])\n",
    "print(\"Optimum Value of objective function:\", f, \"in\", i, \"iterations\")\n",
    "print(\"computation time is {} sec\".format(el))\n",
    "plt.plot(arr1, arr2)\n",
    "plt.grid(True)\n",
    "plt.xlabel(\"Iterations\")\n",
    "plt.ylabel(\"Mean value of obj. function\")\n",
    "plt.title(\"Tol. Value on function: {}\".format(tol))\n",
    "plt.show()"
   ]
  },
  {
   "cell_type": "code",
   "execution_count": null,
   "metadata": {},
   "outputs": [],
   "source": []
  }
 ],
 "metadata": {
  "kernelspec": {
   "display_name": "Python 3",
   "language": "python",
   "name": "python3"
  },
  "language_info": {
   "codemirror_mode": {
    "name": "ipython",
    "version": 3
   },
   "file_extension": ".py",
   "mimetype": "text/x-python",
   "name": "python",
   "nbconvert_exporter": "python",
   "pygments_lexer": "ipython3",
   "version": "3.7.1"
  }
 },
 "nbformat": 4,
 "nbformat_minor": 2
}
